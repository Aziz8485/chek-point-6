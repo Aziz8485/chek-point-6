{
  "nbformat": 4,
  "nbformat_minor": 0,
  "metadata": {
    "colab": {
      "name": " chek point 6.ipynb",
      "provenance": [],
      "collapsed_sections": []
    },
    "kernelspec": {
      "name": "python3",
      "display_name": "Python 3"
    },
    "language_info": {
      "name": "python"
    }
  },
  "cells": [
    {
      "cell_type": "code",
      "metadata": {
        "colab": {
          "base_uri": "https://localhost:8080/"
        },
        "id": "XBYhAGCzgudT",
        "outputId": "0aa71561-b533-4321-9f9c-426f53e6a29e"
      },
      "source": [
        "from array import *\n",
        "array_num = array('i', [1, 3, 5, 3, 7, 1, 9, 3])\n",
        "print(\"Original array: \"+str(array_num))\n",
        "num_list = array_num.tolist()\n",
        "print(\"Convert the said array to an ordinary list with the same items:\")\n",
        "print(num_list)"
      ],
      "execution_count": null,
      "outputs": [
        {
          "output_type": "stream",
          "text": [
            "Original array: array('i', [1, 3, 5, 3, 7, 1, 9, 3])\n",
            "Convert the said array to an ordinary list with the same items:\n",
            "[1, 3, 5, 3, 7, 1, 9, 3]\n"
          ],
          "name": "stdout"
        }
      ]
    },
    {
      "cell_type": "code",
      "metadata": {
        "colab": {
          "base_uri": "https://localhost:8080/"
        },
        "id": "nfrlOAXCj9Iq",
        "outputId": "64f9eb51-64e8-4b17-9436-64ae5e51ee65"
      },
      "source": [
        "import numpy as np\n",
        "  \n",
        "n_array = np.array([[55, 25, 15],\n",
        "                    [30, 44, 2],\n",
        "                    [11, 45, 77]])\n",
        "  \n",
        "print(\"Numpy Matrix is:\")\n",
        "print(n_array)\n",
        "\n",
        "trace = np.trace(n_array)\n",
        "  \n",
        "  \n",
        "print(\"\\nTrace of given 3X3 matrix:\")\n",
        "print(trace)"
      ],
      "execution_count": null,
      "outputs": [
        {
          "output_type": "stream",
          "text": [
            "Numpy Matrix is:\n",
            "[[55 25 15]\n",
            " [30 44  2]\n",
            " [11 45 77]]\n",
            "\n",
            "Trace of given 3X3 matrix:\n",
            "176\n"
          ],
          "name": "stdout"
        }
      ]
    },
    {
      "cell_type": "code",
      "metadata": {
        "colab": {
          "base_uri": "https://localhost:8080/"
        },
        "id": "wG5O7Wg-CgBT",
        "outputId": "329d1be1-3f48-4def-cc11-bb0b2808dad3"
      },
      "source": [
        "import numpy as np\n",
        "x = np.array([[0, 10, 20], [20, 30, 40]])\n",
        "print(\"Original array: \")\n",
        "print(x)\n",
        "print(\"Values bigger than 10 =\", x[x>10])\n",
        "print(\"Their indices are \", np.nonzero(x > 10))\n"
      ],
      "execution_count": null,
      "outputs": [
        {
          "output_type": "stream",
          "text": [
            "Original array: \n",
            "[[ 0 10 20]\n",
            " [20 30 40]]\n",
            "Values bigger than 10 = [20 20 30 40]\n",
            "Their indices are  (array([0, 1, 1, 1]), array([2, 0, 1, 2]))\n"
          ],
          "name": "stdout"
        }
      ]
    },
    {
      "cell_type": "code",
      "metadata": {
        "id": "p6vyx2hEEo66",
        "colab": {
          "base_uri": "https://localhost:8080/"
        },
        "outputId": "ea8f377b-1ad1-47d0-b2f6-f0aa63bab0df"
      },
      "source": [
        "a =np.random.randint(2, 10, size=(2,4))\n",
        "b=np.random.randint(7, 19, size=(2,4))\n",
        "print(a)\n",
        "\n",
        "print(b)\n",
        "c = np.add(a, b)\n",
        "print(c)"
      ],
      "execution_count": 18,
      "outputs": [
        {
          "output_type": "stream",
          "text": [
            "[[4 9 9 3]\n",
            " [8 4 5 6]]\n",
            "[[17  9 16 16]\n",
            " [ 9 10 18  8]]\n",
            "[[21 18 25 19]\n",
            " [17 14 23 14]]\n"
          ],
          "name": "stdout"
        }
      ]
    },
    {
      "cell_type": "code",
      "metadata": {
        "id": "uTxxDzdekzV5",
        "colab": {
          "base_uri": "https://localhost:8080/"
        },
        "outputId": "90e11d4a-15d9-43a3-bfd8-774d09875ddc"
      },
      "source": [
        "a = np.random.randint(2, 10, size=(2,4))\n",
        "b= np.mean(a,axis =1)\n",
        "print(a)\n",
        "print(b)\n",
        "Liste = b.tolist()\n",
        "print(f'List:{Liste}')\n",
        "index = 0\n",
        "for i in a :\n",
        "  index2 =0\n",
        "  for j in i:\n",
        "    a[index,index2] -= round(Liste[index])\n",
        "    index2 += 1\n",
        "  index += 1\n",
        "print(a)\n",
        "\n"
      ],
      "execution_count": 47,
      "outputs": [
        {
          "output_type": "stream",
          "text": [
            "[[6 9 8 9]\n",
            " [9 6 7 8]]\n",
            "[8.  7.5]\n",
            "List:[8.0, 7.5]\n",
            "[[-2  1  0  1]\n",
            " [ 1 -2 -1  0]]\n"
          ],
          "name": "stdout"
        }
      ]
    },
    {
      "cell_type": "code",
      "metadata": {
        "colab": {
          "base_uri": "https://localhost:8080/"
        },
        "id": "yr96JHMh4Kh_",
        "outputId": "a6cee2fa-b700-49d5-cabf-8bdfb3918da8"
      },
      "source": [
        "import numpy as np\n",
        "print(\"Original matrix:\\n\")\n",
        "X = np.random.randint(2, 10, size =(2,19))\n",
        "print(X)\n",
        "print(\"\\nSubtract the mean of each row of the said matrix:\\n\")\n",
        "Y = X.mean(axis=1, keepdims=True)\n",
        "print(Y)\n"
      ],
      "execution_count": 29,
      "outputs": [
        {
          "output_type": "stream",
          "text": [
            "Original matrix:\n",
            "\n",
            "[[5 8 2 9 8 6 8 6 4 6 6 5 2 9 3 6 5 5 3]\n",
            " [6 2 3 7 9 9 8 5 6 2 4 7 7 3 5 2 8 8 3]]\n",
            "\n",
            "Subtract the mean of each row of the said matrix:\n",
            "\n",
            "[[5.57894737]\n",
            " [5.47368421]]\n"
          ],
          "name": "stdout"
        }
      ]
    },
    {
      "cell_type": "code",
      "metadata": {
        "id": "Ls0toF0v1D_c"
      },
      "source": [
        ""
      ],
      "execution_count": null,
      "outputs": []
    }
  ]
}